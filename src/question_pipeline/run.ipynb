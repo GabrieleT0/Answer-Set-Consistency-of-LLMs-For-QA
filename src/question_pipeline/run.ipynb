{
 "cells": [
  {
   "cell_type": "markdown",
   "id": "466c0bbb",
   "metadata": {},
   "source": [
    "### Spinach Datasets"
   ]
  },
  {
   "cell_type": "code",
   "execution_count": 5,
   "id": "eab95ed4",
   "metadata": {},
   "outputs": [
    {
     "name": "stdout",
     "output_type": "stream",
     "text": [
      "✅ Saved 3848 rows to ../../data/Spinach/spinach_output\n"
     ]
    }
   ],
   "source": [
    "import os\n",
    "import json\n",
    "import pandas as pd\n",
    "\n",
    "# Load config\n",
    "with open(\"config.json\", \"r\") as f:\n",
    "    CONFIG = json.load(f)\n",
    "\n",
    "input_path = CONFIG.get(\"input_path\", \"../data/Spinach\")\n",
    "output_path = CONFIG.get(\"output_path\", \"./combined_question.tsv\")\n",
    "\n",
    "# Load and merge into a list of rows\n",
    "records = []\n",
    "\n",
    "for filename in os.listdir(input_path):\n",
    "    if filename.endswith(\".json\"):\n",
    "        file_path = os.path.join(input_path, filename)\n",
    "        try:\n",
    "            with open(file_path, \"r\", encoding=\"utf-8\") as f:\n",
    "                data = json.load(f)\n",
    "\n",
    "                # If it's a list of items\n",
    "                if isinstance(data, list):\n",
    "                    for item in data:\n",
    "                        if \"question\" in item:\n",
    "                            records.append({\n",
    "                                \"question\": item[\"question\"],\n",
    "                                \"sparql\": item.get(\"sparql\")  # None if missing\n",
    "                            })\n",
    "                # If it's a single dict\n",
    "                elif isinstance(data, dict) and \"question\" in data:\n",
    "                    records.append({\n",
    "                        \"question\": data[\"question\"],\n",
    "                        \"sparql\": data.get(\"sparql\")  # None if missing\n",
    "                    })\n",
    "\n",
    "        except Exception as e:\n",
    "            print(f\"❌ Error in {filename}: {e}\")\n",
    "\n",
    "# Convert to DataFrame\n",
    "df = pd.DataFrame(records)\n",
    "\n",
    "# Save as TSV\n",
    "df.to_csv(output_path + \".tsv\", sep=\"\\t\", index=False)\n",
    "print(f\"✅ Saved {len(df)} rows to {output_path}\")\n"
   ]
  },
  {
   "cell_type": "code",
   "execution_count": 6,
   "id": "c7f74fd3",
   "metadata": {},
   "outputs": [
    {
     "name": "stderr",
     "output_type": "stream",
     "text": [
      "Processing: 100%|██████████| 2018/2018 [18:47<00:00,  1.79it/s]"
     ]
    },
    {
     "name": "stdout",
     "output_type": "stream",
     "text": [
      "\n",
      "✅ Saved 277 rows to:\n",
      "- ../../data/Spinach/spinach_output.csv\n",
      "- ../../data/Spinach/spinach_output.tsv\n"
     ]
    },
    {
     "name": "stderr",
     "output_type": "stream",
     "text": [
      "\n"
     ]
    }
   ],
   "source": [
    "import json\n",
    "import pandas as pd\n",
    "from tqdm import tqdm\n",
    "from agent_workflow import run_agent_workflow\n",
    "\n",
    "\n",
    "\n",
    "processed_results = []\n",
    "\n",
    "question_data = df.to_dict(orient='records')\n",
    "for i in tqdm(range(len(question_data)), desc=\"Processing\"):\n",
    "    item = question_data[i]\n",
    "    q1 = item.get(\"question\")\n",
    "    usparql = item.get(\"usparql\", f\"no_usparql_{i}\")\n",
    "    if i%100 == 0:\n",
    "        df = pd.DataFrame(processed_results)\n",
    "        df.to_csv(output_path + \"_generated.csv\", index=False)\n",
    "        df.to_csv(output_path + \"_generated.tsv\", sep=\"\\t\", index=False)\n",
    "    try:\n",
    "        result = run_agent_workflow(q1)\n",
    "        if result:\n",
    "            processed_results.append({\"usparql\": usparql, **result})\n",
    "    except Exception as e:\n",
    "        print(f\"❌ Error at index {i}: {e}\")\n",
    "        continue\n",
    "\n",
    "df = pd.DataFrame(processed_results)\n",
    "df.to_csv(output_path + \"_generated.csv\", index=False)\n",
    "df.to_csv(output_path + \"_generated.tsv\", sep=\"\\t\", index=False)\n",
    "\n",
    "print(f\"\\n✅ Saved {len(df)} rows to:\\n- {output_path}.csv\\n- {output_path}.tsv\")\n",
    "\n"
   ]
  }
 ],
 "metadata": {
  "kernelspec": {
   "display_name": "Python 3",
   "language": "python",
   "name": "python3"
  },
  "language_info": {
   "codemirror_mode": {
    "name": "ipython",
    "version": 3
   },
   "file_extension": ".py",
   "mimetype": "text/x-python",
   "name": "python",
   "nbconvert_exporter": "python",
   "pygments_lexer": "ipython3",
   "version": "3.11.0"
  }
 },
 "nbformat": 4,
 "nbformat_minor": 5
}
