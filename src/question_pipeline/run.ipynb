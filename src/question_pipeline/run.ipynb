{
 "cells": [
  {
   "cell_type": "markdown",
   "id": "466c0bbb",
   "metadata": {},
   "source": [
    "### Spinach Datasets"
   ]
  },
  {
   "cell_type": "code",
   "execution_count": null,
   "id": "c7f74fd3",
   "metadata": {},
   "outputs": [],
   "source": [
    "import json\n",
    "import pandas as pd\n",
    "from tqdm import tqdm\n",
    "from agent_workflow import run_agent_workflow, load_config\n",
    "\n",
    "def main():\n",
    "    config = load_config()\n",
    "    input_path = config[\"input_path\"]\n",
    "    output_path = config[\"output_path\"]\n",
    "\n",
    "\n",
    "    with open(input_path, \"r\") as f:\n",
    "        question_data = json.load(f)\n",
    "\n",
    "    processed_results = []\n",
    "\n",
    "    for i in tqdm(range(len(question_data)), desc=\"Processing\"):\n",
    "        item = question_data[i]\n",
    "        q1 = item.get(\"question\")\n",
    "        uid = item.get(\"uid\", f\"no_uid_{i}\")\n",
    "\n",
    "        try:\n",
    "            result = run_agent_workflow(q1)\n",
    "            if result:\n",
    "                processed_results.append({\"uid\": uid, **result})\n",
    "        except Exception as e:\n",
    "            print(f\"❌ Error at index {i}: {e}\")\n",
    "            continue\n",
    "\n",
    "    df = pd.DataFrame(processed_results)\n",
    "    df.to_csv(output_path + \".csv\", index=False)\n",
    "    df.to_csv(output_path + \".tsv\", sep=\"\\t\", index=False)\n",
    "\n",
    "    print(f\"\\n✅ Saved {len(df)} rows to:\\n- {output_path}.csv\\n- {output_path}.tsv\")\n",
    "\n",
    "if __name__ == \"__main__\":\n",
    "    main()\n"
   ]
  }
 ],
 "metadata": {
  "kernelspec": {
   "display_name": "Python 3",
   "language": "python",
   "name": "python3"
  },
  "language_info": {
   "name": "python",
   "version": "3.11.0"
  }
 },
 "nbformat": 4,
 "nbformat_minor": 5
}
