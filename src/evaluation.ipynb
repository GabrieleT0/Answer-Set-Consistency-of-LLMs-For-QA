{
 "cells": [
  {
   "cell_type": "code",
   "execution_count": null,
   "id": "211d177e",
   "metadata": {},
   "outputs": [
    {
     "name": "stdout",
     "output_type": "stream",
     "text": [
      "subset_superset_results_gpt-4.1-mini.json: avg=0.23, ratio_of_ones=23.08%\n",
      "eq_jaccard_similarity_scores.json: avg=0.46, ratio_of_ones=30.57%\n",
      "subset_superset_results.json: avg=0.23, ratio_of_ones=23.08%\n",
      "eq_jaccard_similarity_scores_gpt-4.1-mini.json: avg=0.46, ratio_of_ones=30.57%\n"
     ]
    }
   ],
   "source": [
    "import os\n",
    "import json\n",
    "\n",
    "folder = \"../data/evaluation_results/\"\n",
    "\n",
    "for filename in os.listdir(folder):\n",
    "    filepath = os.path.join(folder, filename)\n",
    "    \n",
    "    with open(filepath, \"r\") as f:\n",
    "        data = json.load(f)\n",
    "    \n",
    "    average_score = sum(data.values()) / len(data)\n",
    "    \n",
    "    # Compute ratio of values equal to 1\n",
    "    count_ones = sum(1 for v in data.values() if v == 1)\n",
    "    ratio_ones = count_ones / len(data)\n",
    "    \n",
    "    print(f\"{filename}: avg={average_score:.2f}, ratio_of_ones={ratio_ones:.2%}\")\n"
   ]
  },
  {
   "cell_type": "code",
   "execution_count": null,
   "id": "6fdac36a",
   "metadata": {},
   "outputs": [],
   "source": []
  }
 ],
 "metadata": {
  "kernelspec": {
   "display_name": "Python 3",
   "language": "python",
   "name": "python3"
  },
  "language_info": {
   "codemirror_mode": {
    "name": "ipython",
    "version": 3
   },
   "file_extension": ".py",
   "mimetype": "text/x-python",
   "name": "python",
   "nbconvert_exporter": "python",
   "pygments_lexer": "ipython3",
   "version": "3.11.0"
  }
 },
 "nbformat": 4,
 "nbformat_minor": 5
}
